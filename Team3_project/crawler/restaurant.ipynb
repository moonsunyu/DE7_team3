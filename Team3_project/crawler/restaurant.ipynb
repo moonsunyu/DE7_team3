{
 "cells": [
  {
   "cell_type": "code",
   "execution_count": null,
   "id": "7afba9d0",
   "metadata": {},
   "outputs": [],
   "source": [
    "from selenium import webdriver\n",
    "from selenium.webdriver.chrome.service import Service\n",
    "from selenium.webdriver.common.by import By\n",
    "from webdriver_manager.chrome import ChromeDriverManager\n",
    "import time\n",
    "import re\n",
    "import pandas as pd\n",
    "import requests"
   ]
  },
  {
   "cell_type": "code",
   "execution_count": 2,
   "id": "193595c2",
   "metadata": {},
   "outputs": [],
   "source": [
    "driver = webdriver.Chrome()\n",
    "driver.implicitly_wait(10)"
   ]
  },
  {
   "cell_type": "code",
   "execution_count": 20,
   "id": "06d71701",
   "metadata": {},
   "outputs": [],
   "source": [
    "links = []\n"
   ]
  },
  {
   "cell_type": "code",
   "execution_count": 27,
   "id": "f01cc103",
   "metadata": {},
   "outputs": [],
   "source": [
    "restaurant = pd.DataFrame(columns=[\n",
    "    \"michelin_name\", \"kakao_name\", \"address\", \"latitude\", \"longitude\",\n",
    "    \"category\", \"page\", \"price\", \"rating\", \"call_number\"\n",
    "])"
   ]
  },
  {
   "cell_type": "code",
   "execution_count": 77,
   "id": "1372e452",
   "metadata": {},
   "outputs": [],
   "source": [
    "restaurant['kakao_name'] = restaurant['kakao_name'].astype(str)\n",
    "restaurant['address'] = restaurant['address'].astype(str)\n",
    "restaurant['call_number'] = restaurant['call_number'].astype(str)"
   ]
  },
  {
   "cell_type": "code",
   "execution_count": 21,
   "id": "708a7afa",
   "metadata": {},
   "outputs": [],
   "source": [
    "for i in range(1,7):\n",
    "    driver.get(\"https://guide.michelin.com/kr/ko/selection/south-korea/restaurants/page/{}\".format(i))\n",
    "    time.sleep(2)\n",
    "\n",
    "    # 현재 페이지에서 div들 찾기\n",
    "    divs = driver.find_elements(By.XPATH, '/html/body/main/section[1]/div[1]/div/div[2]/div')\n",
    "\n",
    "    for div in divs:\n",
    "        a_tag = div.find_element(By.TAG_NAME, \"a\")\n",
    "        href = a_tag.get_attribute(\"href\")\n",
    "        links.append(href)"
   ]
  },
  {
   "cell_type": "code",
   "execution_count": 28,
   "id": "779869ee",
   "metadata": {},
   "outputs": [],
   "source": [
    "for link in links:\n",
    "    driver.get(link)\n",
    "    time.sleep(2)\n",
    "\n",
    "    name = driver.find_element(By.XPATH, '/html/body/main/div[4]/div[1]/div/div[1]/section/div/div[1]/div/h1').text\n",
    "\n",
    "    address = driver.find_element(By.XPATH, '/html/body/main/div[4]/div[1]/div/div[1]/section/div/div[2]/div/div/div[1]/div[1]').text\n",
    "    category = driver.find_element(By.XPATH, '/html/body/main/div[4]/div[1]/div/div[1]/section/div/div[2]/div/div/div[1]/div[2]').text\n",
    "\n",
    "    iframe = driver.find_element(By.CSS_SELECTOR, \"iframe[src*='google.com/maps']\")\n",
    "    iframe_src = iframe.get_attribute(\"src\")\n",
    "    if \"q=\" in iframe_src:\n",
    "        coord_part = iframe_src.split(\"q=\")[1].split(\"&\")[0]\n",
    "        coords = coord_part.split(\",\")\n",
    "        if len(coords) == 2:\n",
    "            latitude = coords[0].strip()\n",
    "            longitude = coords[1].strip()\n",
    "    parts = [p.strip() for p in category.split(\"·\")]\n",
    "\n",
    "    restaurant.loc[len(restaurant)] = {\n",
    "        \"michelin_name\": name,\n",
    "        \"latitude\": latitude,\n",
    "        \"longitude\": longitude,\n",
    "        \"category\": parts[1],\n",
    "        \"page\": link,\n",
    "        \"price\": parts[0]\n",
    "    }"
   ]
  },
  {
   "cell_type": "code",
   "execution_count": 33,
   "id": "3b0c8afd",
   "metadata": {},
   "outputs": [],
   "source": [
    "url = 'https://dapi.kakao.com/v2/local/search/keyword.json' \n",
    "headers = {\"Authorization\": \"KakaoAK 633b071420476eea43525a6747c22e0c\"}"
   ]
  },
  {
   "cell_type": "code",
   "execution_count": null,
   "id": "d3c4a741",
   "metadata": {},
   "outputs": [
    {
     "name": "stdout",
     "output_type": "stream",
     "text": [
      "index=41, name=진진, 검색 결과 없음\n",
      "index=60, name=오레노 라멘, 검색 결과 없음\n",
      "index=68, name=명동 교자, 검색 결과 없음\n",
      "index=78, name=삼청동 수제비, 검색 결과 없음\n",
      "index=90, name=담택, 검색 결과 없음\n",
      "index=105, name=스시 마츠모토, 검색 결과 없음\n",
      "index=138, name=역전회관, 검색 결과 없음\n",
      "index=176, name=구찌 오스테리아 다 마시모 보투라, 검색 결과 없음\n",
      "index=182, name=오프닝, 검색 결과 없음\n",
      "index=194, name=정육면체, 검색 결과 없음\n",
      "index=198, name=으뜸 이로리바타, 검색 결과 없음\n",
      "index=199, name=오부이용, 검색 결과 없음\n",
      "index=211, name=미미 면가, 검색 결과 없음\n",
      "index=223, name=레썽스, 검색 결과 없음\n",
      "index=237, name=일드청담, 검색 결과 없음\n",
      "index=244, name=르오뇽, 검색 결과 없음\n"
     ]
    }
   ],
   "source": [
    "for i in range(len(restaurant)):\n",
    "    row = restaurant.iloc[i]\n",
    "    params = {\n",
    "    'query': row['michelin_name'],  # 검색할 키워드 (예시: '카페')\n",
    "    'x': row['longitude'],  # 중심점의 x 좌표\n",
    "    'y': row['latitude'],  # 중심점의 y 좌표\n",
    "    'radius': 50,  # 검색 반경 (미터 단위)\n",
    "    }      \n",
    "    response = requests.get(url, params=params, headers=headers)\n",
    "\n",
    "    if response.status_code == 200:  # 요청이 성공한 경우\n",
    "        data = response.json()  # JSON 형식으로 응답 데이터를 가져옴\n",
    "\n",
    "        # 검색 결과가 존재하는지 확인\n",
    "        if 'documents' in data and len(data[\"documents\"]) > 0:\n",
    "            doc = data[\"documents\"][0]\n",
    "            restaurant.loc[i, 'kakao_name'] = str(doc.get('place_name', ''))\n",
    "            restaurant.loc[i, 'address'] = str(doc.get('road_address_name', ''))\n",
    "            restaurant.loc[i, 'call_number'] = str(doc.get('phone', ''))\n",
    "            restaurant.loc[i, 'kakao_id'] = doc.get('id', None)\n",
    "        else:\n",
    "            print(f\"index={i}, name={row['michelin_name']}, 검색 결과 없음\")  # 검색 결과가 없는 경우 메시지 출력\n",
    "    else:\n",
    "        print(f\"요청 실패: index={i}, name={row['michelin_name']}\", response.status_code)  # 요청 실패 시 상태 코드 출력"
   ]
  },
  {
   "cell_type": "code",
   "execution_count": 79,
   "id": "c6df6da6",
   "metadata": {},
   "outputs": [],
   "source": [
    "for i in range(len(restaurant)):\n",
    "    if restaurant.loc[i, 'price'] == '₩':\n",
    "        restaurant.loc[i, 'price'] = '가격대 낮음'\n",
    "    elif restaurant.loc[i, 'price'] == '₩₩':\n",
    "        restaurant.loc[i, 'price'] = '가격대 보통'\n",
    "    elif restaurant.loc[i, 'price'] == '₩₩₩':\n",
    "        restaurant.loc[i, 'price'] = '가격대 약간 높음'\n",
    "    elif restaurant.loc[i, 'price'] == '₩₩₩₩':\n",
    "        restaurant.loc[i, 'price'] = '가격대 높음'"
   ]
  },
  {
   "cell_type": "code",
   "execution_count": 80,
   "id": "4751d659",
   "metadata": {},
   "outputs": [],
   "source": [
    "restaurant.loc[41, ['kakao_name','address','call_number', 'kakao_id']] = [\"진진\", \"서울 마포구 월드컵북로1길 60\", \"070-5035-8878\", 1767349854]\n",
    "restaurant.loc[60, ['kakao_name','address','call_number', 'kakao_id']] = [\"오레노라멘 합정본점\", \"서울 마포구 독막로8길 16\", \"02-322-3539\", 1916682638]\n",
    "restaurant.loc[68, ['kakao_name','address','call_number', 'kakao_id']] = [\"명동교자 본점\", \"서울 중구 명동10길 29\", \"02-776-5348\", 10332413]\n",
    "restaurant.loc[78, ['kakao_name','address','call_number', 'kakao_id']] = [\"삼청동수제비\", \"서울 종로구 삼청로 101-1\", \"02-735-2965\", 13559837]\n",
    "restaurant.loc[90, ['kakao_name','address','latitude', 'longitude', 'call_number', 'kakao_id']] = [\"담택\", \"서울 마포구 동교로12안길 51\", 37.555015, 126.923422, \"02-336-0974\", 1534943798]\n",
    "restaurant.loc[105, ['kakao_name','address','call_number', 'kakao_id']] = [\"스시마츠모토\", \"서울 강남구 도산대로75길 24\", \"02-543-4334\", 1784630600]\n",
    "restaurant.loc[138, ['kakao_name','address','call_number', 'kakao_id']] = [\"역전회관\", \"서울 마포구 토정로37길 47\", \"02-703-0019\", 18279130]\n",
    "restaurant.loc[176, ['kakao_name','address','call_number', 'kakao_id']] = [\"구찌 오스테리아 서울\", \"서울 강남구 압구정로 462\", \"02-795-1119\", 623581617]\n",
    "restaurant.loc[182, ['kakao_name','address','call_number', 'kakao_id']] = [\"오프닝\", \"서울 강남구 도산대로34길 22\", \"02-2088-5844\", 2010673091]\n",
    "restaurant.loc[194, ['kakao_name','address','call_number', 'kakao_id']] = [\"정육면체\", \"서울 서대문구 연세로5다길 22-8\", \"070-4179-3819\", 1705674698]\n",
    "restaurant.loc[198, ['kakao_name','address','call_number', 'kakao_id']] = [\"으뜸이로리바타\", \"부산 수영구 수영로408번길 20\", \"010-6640-2884\", 1227688599]\n",
    "restaurant.loc[199, ['kakao_name','address','call_number', 'kakao_id']] = [\"오부이용\", \"서울 성동구 독서당로51길 29-1\", \"0502-5551-1801\", 1715937835]\n",
    "restaurant.loc[211, ['kakao_name','address','call_number', 'kakao_id']] = [\"미미면가 본점\", \"서울 강남구 강남대로160길 29\", \"0507-1413-5466\", 18324313]\n",
    "restaurant.loc[223, ['kakao_name','address','call_number', 'kakao_id']] = [\"레썽스\", \"부산 수영구 광남로22번길 17\", \"0503-7150-1100\", 1394878342]\n",
    "restaurant.loc[244, ['kakao_name','address','call_number', 'kakao_id']] = [\"르오뇽\", \"서울 강남구 도산대로17길 29\", \"0507-1324-9187\", 1243908002]\n"
   ]
  },
  {
   "cell_type": "code",
   "execution_count": 81,
   "id": "26763b0d",
   "metadata": {},
   "outputs": [],
   "source": [
    "restaurant.to_excel(\"D:/Users/Downloads/restaurant.xlsx\", index=False)"
   ]
  },
  {
   "cell_type": "code",
   "execution_count": 82,
   "id": "a7078327",
   "metadata": {},
   "outputs": [],
   "source": [
    "restaurant.to_csv(\"D:/Users/Downloads/restaurant.csv\", index=False, encoding='utf-8')"
   ]
  }
 ],
 "metadata": {
  "kernelspec": {
   "display_name": "Python 3 (ipykernel)",
   "language": "python",
   "name": "python3"
  },
  "language_info": {
   "codemirror_mode": {
    "name": "ipython",
    "version": 3
   },
   "file_extension": ".py",
   "mimetype": "text/x-python",
   "name": "python",
   "nbconvert_exporter": "python",
   "pygments_lexer": "ipython3",
   "version": "3.13.7"
  }
 },
 "nbformat": 4,
 "nbformat_minor": 5
}
